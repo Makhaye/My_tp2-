{
 "cells": [
  {
   "cell_type": "code",
   "execution_count": 1,
   "id": "d77a7709-a1e7-475c-b682-69d9ab0a0b91",
   "metadata": {},
   "outputs": [],
   "source": [
    "import pandas as pd\n",
    "import matplotlib.pyplot as plt\n",
    "import seaborn as sns\n",
    "import plotly.express as px\n",
    "\n",
    "# Load the dataset\n",
    "file_path =( r\"C:\\Users\\pac computers\\OneDrive - Mangosuthu University of Technology\\Desktop\\TP2 Test2\\InformalDataset.csv.csv\")\n",
    "df = pd.read_csv(file_path)"
   ]
  },
  {
   "cell_type": "code",
   "execution_count": 2,
   "id": "4675247f-4ff8-444c-bb15-88ba2c46cda7",
   "metadata": {},
   "outputs": [
    {
     "name": "stdout",
     "output_type": "stream",
     "text": [
      "  Initial Population                Settlement Name      Location  \\\n",
      "0                100                    Khayelitsha     Cape Town   \n",
      "1                100                      Diepsloot  Johannesburg   \n",
      "2                100                      Alexandra  Johannesburg   \n",
      "3                100                 Joe Slovo Park     Cape Town   \n",
      "4                100  Barberton Informal Settlement     Barberton   \n",
      "\n",
      "       Province Date of Establishment Current Population Sanitation  \\\n",
      "0  Western Cape                  1983             391749         No   \n",
      "1       Gauteng                  1995             138329         No   \n",
      "2       Gauteng                  1912             179624    Partial   \n",
      "3  Western Cape                  1990            Unknown         No   \n",
      "4    Mpumalanga                  2000            Unknown         No   \n",
      "\n",
      "  Water Supply Electricity                    Health Issues  \\\n",
      "0      Partial          No                 High crime rates   \n",
      "1           No          No                     Overcrowding   \n",
      "2      Partial     Partial                     Unemployment   \n",
      "3           No          No                     Fire hazards   \n",
      "4           No          No  Illegal electricity connections   \n",
      "\n",
      "    Government Interventions              NGO Interventions  \\\n",
      "0   Various housing projects  Water and sanitation projects   \n",
      "1      Rehousing initiatives        Infrastructure projects   \n",
      "2      Urban renewal program     Community support programs   \n",
      "3  Housing development plans             Emergency services   \n",
      "4    Local municipal support   Volunteer-driven initiatives   \n",
      "\n",
      "                   Intervention Outcomes  \n",
      "0  Improved housing but persistent crime  \n",
      "1                       Slow improvement  \n",
      "2                          Mixed results  \n",
      "3                      Frequent setbacks  \n",
      "4                        Limited success  \n"
     ]
    }
   ],
   "source": [
    "def insertion_sort(arr):\n",
    "    for i in range(1, len(arr)):\n",
    "        key = arr[i]\n",
    "        j = i - 1\n",
    "        while j >= 0 and key < arr[j]:\n",
    "            arr[j + 1] = arr[j]\n",
    "            j -= 1\n",
    "        arr[j + 1] = key\n",
    "    return arr\n",
    "\n",
    "# Apply insertion sort to 'Initial Population' column\n",
    "initial_population_sorted = insertion_sort(df['Initial Population'].tolist())\n",
    "\n",
    "# Create a new DataFrame sorted by 'Initial Population'\n",
    "df_sorted = df.set_index('Initial Population').loc[initial_population_sorted].reset_index()\n",
    "\n",
    "print(df_sorted.head())"
   ]
  },
  {
   "cell_type": "code",
   "execution_count": null,
   "id": "f9d09abe-6f61-4fa6-9323-0c9c73f4fb6c",
   "metadata": {},
   "outputs": [],
   "source": []
  }
 ],
 "metadata": {
  "kernelspec": {
   "display_name": "Python 3 (ipykernel)",
   "language": "python",
   "name": "python3"
  },
  "language_info": {
   "codemirror_mode": {
    "name": "ipython",
    "version": 3
   },
   "file_extension": ".py",
   "mimetype": "text/x-python",
   "name": "python",
   "nbconvert_exporter": "python",
   "pygments_lexer": "ipython3",
   "version": "3.12.2"
  }
 },
 "nbformat": 4,
 "nbformat_minor": 5
}
