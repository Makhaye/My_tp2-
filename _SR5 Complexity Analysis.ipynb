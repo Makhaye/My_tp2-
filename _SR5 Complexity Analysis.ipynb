{
 "cells": [
  {
   "cell_type": "markdown",
   "id": "9f1ff808-44ef-444f-8e84-21268d163d70",
   "metadata": {},
   "source": [
    "  **Binary search**\n",
    "is a highly efficient algorithm for locating an element in a sorted list. It operates by repeatedly dividing the search interval in half, significantly reducing the number of elements to be checked. The process begins with two pointers, low and high, set at the beginning and end of the list, respectively. The middle index, mid, is calculated as the average of low and high. If the element at mid is the target, the search concludes successfully. If the target is smaller than the element at mid, the search continues in the left subarray; if larger, it proceeds in the right subarray. This halving process is repeated until the target is found or the interval is empty, indicating the target is not in the list.\n",
    "\n",
    "The concept of binary search is elegantly simple yet powerful, leveraging the sorted nature of the list to minimize the number of comparisons needed. For instance, in a sorted list of 1,000 elements, a binary search would require at most 10 comparisons, as each step cuts the search interval in half. This efficiency makes binary search particularly useful in large datasets where a linear search would be impractical due to its time-consuming nature.\n",
    "\n",
    "Big O notation is a mathematical notation used to describe an algorithm's efficiency in terms of time and space complexity. It provides an upper bound on the running time, helping to understand how an algorithm performs as the input size grows. Common Big O notations include O(1) for constant time, O(n) for linear time, and O(log n) for logarithmic time, among others. Each notation gives a high-level understanding of the algorithm's scalability and performance.\n",
    "\n",
    "Binary search is characterized by a time complexity of O(log n). This logarithmic time complexity arises because the algorithm effectively halves the search space with each comparison, making it extremely efficient for large datasets. In contrast, a linear search, with a time complexity of O(n), would require checking each element in the worst case, making it significantly slower as the dataset grows. Thus, binary search is a prime example of how algorithmic efficiency can be drastically improved by leveraging the structure of the data."
   ]
  },
  {
   "cell_type": "code",
   "execution_count": null,
   "id": "e426db0c-68bc-4a1c-9724-e8a8919b7056",
   "metadata": {},
   "outputs": [],
   "source": []
  }
 ],
 "metadata": {
  "kernelspec": {
   "display_name": "Python 3 (ipykernel)",
   "language": "python",
   "name": "python3"
  },
  "language_info": {
   "codemirror_mode": {
    "name": "ipython",
    "version": 3
   },
   "file_extension": ".py",
   "mimetype": "text/x-python",
   "name": "python",
   "nbconvert_exporter": "python",
   "pygments_lexer": "ipython3",
   "version": "3.12.2"
  }
 },
 "nbformat": 4,
 "nbformat_minor": 5
}
