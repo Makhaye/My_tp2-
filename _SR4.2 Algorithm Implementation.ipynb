{
 "cells": [
  {
   "cell_type": "markdown",
   "id": "40a05178-93bb-4bdc-97a6-7720b8001f51",
   "metadata": {},
   "source": [
    "Linear Search\n",
    "Linear search, also known as sequential search, checks each element of a list one by one until the desired element is found or the list ends. It is a straightforward search algorithm that does not require the list to be sorted. The time complexity of linear search is O(n), where n is the number of elements in the list. This is because, in the worst-case scenario, every element in the list needs to be checked before finding the target or concluding that it is not present. Linear search is useful when dealing with unsorted or small datasets, or when the cost of sorting the data is not justified.\n",
    "\n",
    "Binary Search\n",
    "Binary search works on sorted lists and repeatedly divides the search interval in half. If the desired element is less than the middle element, the search continues in the lower half; otherwise, it continues in the upper half. This halving process continues until the element is found or the interval is empty. The time complexity of binary search is O(log n), where n is the number of elements in the list. This is because each step reduces the search interval by half, making it much more efficient for large datasets compared to linear search. Binary search is significantly faster than linear search for large, sorted datasets due to its logarithmic time complexity.\n",
    "\n",
    "Conclusion\n",
    "Binary search performs faster than linear search, especially for large datasets, due to its logarithmic time complexity. However, binary search requires the dataset to be sorted, whereas linear search does not. Therefore, if the dataset is unsorted and small, linear search is a simple and effective option. For large datasets, sorting the data and using binary search is more efficient.\n",
    "\n",
    "\n"
   ]
  },
  {
   "cell_type": "code",
   "execution_count": 1,
   "id": "1e36761b-0510-4b69-9370-e7022f8e12fc",
   "metadata": {},
   "outputs": [],
   "source": [
    "import pandas as pd\n",
    "import matplotlib.pyplot as plt\n",
    "import seaborn as sns\n",
    "import plotly.express as px\n",
    "\n",
    "\n",
    "# Load the dataset\n",
    "file_path =( r\"C:\\Users\\pac computers\\OneDrive - Mangosuthu University of Technology\\Desktop\\TP2 Test2\\InformalDataset.csv.csv\")\n",
    "df = pd.read_csv(file_path)"
   ]
  },
  {
   "cell_type": "code",
   "execution_count": 2,
   "id": "05f415ea-8b50-4948-964b-d5a04876873e",
   "metadata": {},
   "outputs": [
    {
     "name": "stdout",
     "output_type": "stream",
     "text": [
      "Linear Search: Element Khayelitsha found at index 0\n",
      "Binary Search: Element Khayelitsha found at index 18 in the sorted list\n"
     ]
    }
   ],
   "source": [
    "# Extract the 'Settlement Name' column for the search\n",
    "settlement_names = df['Settlement Name'].dropna().tolist()\n",
    "\n",
    "# Define the element to search for\n",
    "search_element = \"Khayelitsha\"\n",
    "\n",
    "# Linear Search Implementation\n",
    "def linear_search(arr, target):\n",
    "    for index, value in enumerate(arr):\n",
    "        if value == target:\n",
    "            return index\n",
    "    return -1\n",
    "\n",
    "# Binary Search Implementation\n",
    "def binary_search(arr, target):\n",
    "    left, right = 0, len(arr) - 1\n",
    "    while left <= right:\n",
    "        mid = left + (right - left) // 2\n",
    "        if arr[mid] == target:\n",
    "            return mid\n",
    "        elif arr[mid] < target:\n",
    "            left = mid + 1\n",
    "        else:\n",
    "            right = mid - 1\n",
    "    return -1\n",
    "\n",
    "# Perform Linear Search\n",
    "linear_result = linear_search(settlement_names, search_element)\n",
    "print(f'Linear Search: Element {search_element} found at index {linear_result}')\n",
    "\n",
    "# Perform Binary Search\n",
    "# Note: Binary search requires a sorted list\n",
    "settlement_names_sorted = sorted(settlement_names)\n",
    "binary_result = binary_search(settlement_names_sorted, search_element)\n",
    "print(f'Binary Search: Element {search_element} found at index {binary_result} in the sorted list')"
   ]
  },
  {
   "cell_type": "code",
   "execution_count": null,
   "id": "05d2bc33-63f0-44b0-a4da-f633193017ad",
   "metadata": {},
   "outputs": [],
   "source": []
  }
 ],
 "metadata": {
  "kernelspec": {
   "display_name": "Python 3 (ipykernel)",
   "language": "python",
   "name": "python3"
  },
  "language_info": {
   "codemirror_mode": {
    "name": "ipython",
    "version": 3
   },
   "file_extension": ".py",
   "mimetype": "text/x-python",
   "name": "python",
   "nbconvert_exporter": "python",
   "pygments_lexer": "ipython3",
   "version": "3.12.2"
  }
 },
 "nbformat": 4,
 "nbformat_minor": 5
}
